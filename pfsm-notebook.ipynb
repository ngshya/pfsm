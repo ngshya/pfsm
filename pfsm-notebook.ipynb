{
 "cells": [
  {
   "cell_type": "markdown",
   "metadata": {},
   "source": [
    "# Python Fast Strings Matching "
   ]
  },
  {
   "cell_type": "markdown",
   "metadata": {},
   "source": [
    "Import packages"
   ]
  },
  {
   "cell_type": "code",
   "execution_count": 1,
   "metadata": {},
   "outputs": [],
   "source": [
    "import pandas as pd\n",
    "import time\n",
    "from pfsm import *"
   ]
  },
  {
   "cell_type": "markdown",
   "metadata": {},
   "source": [
    "Load a sample dataset."
   ]
  },
  {
   "cell_type": "code",
   "execution_count": 2,
   "metadata": {},
   "outputs": [
    {
     "name": "stdout",
     "output_type": "stream",
     "text": [
      "(663000, 3)\n"
     ]
    },
    {
     "data": {
      "text/html": [
       "<div>\n",
       "<style scoped>\n",
       "    .dataframe tbody tr th:only-of-type {\n",
       "        vertical-align: middle;\n",
       "    }\n",
       "\n",
       "    .dataframe tbody tr th {\n",
       "        vertical-align: top;\n",
       "    }\n",
       "\n",
       "    .dataframe thead th {\n",
       "        text-align: right;\n",
       "    }\n",
       "</style>\n",
       "<table border=\"1\" class=\"dataframe\">\n",
       "  <thead>\n",
       "    <tr style=\"text-align: right;\">\n",
       "      <th></th>\n",
       "      <th>Line Number</th>\n",
       "      <th>Company Name</th>\n",
       "      <th>Company CIK Key</th>\n",
       "    </tr>\n",
       "  </thead>\n",
       "  <tbody>\n",
       "    <tr>\n",
       "      <th>0</th>\n",
       "      <td>1</td>\n",
       "      <td>!J INC</td>\n",
       "      <td>1438823</td>\n",
       "    </tr>\n",
       "    <tr>\n",
       "      <th>1</th>\n",
       "      <td>2</td>\n",
       "      <td>#1 A LIFESAFER HOLDINGS, INC.</td>\n",
       "      <td>1509607</td>\n",
       "    </tr>\n",
       "    <tr>\n",
       "      <th>2</th>\n",
       "      <td>3</td>\n",
       "      <td>#1 ARIZONA DISCOUNT PROPERTIES LLC</td>\n",
       "      <td>1457512</td>\n",
       "    </tr>\n",
       "    <tr>\n",
       "      <th>3</th>\n",
       "      <td>4</td>\n",
       "      <td>#1 PAINTBALL CORP</td>\n",
       "      <td>1433777</td>\n",
       "    </tr>\n",
       "    <tr>\n",
       "      <th>4</th>\n",
       "      <td>5</td>\n",
       "      <td>$ LLC</td>\n",
       "      <td>1427189</td>\n",
       "    </tr>\n",
       "  </tbody>\n",
       "</table>\n",
       "</div>"
      ],
      "text/plain": [
       "  Line Number                        Company Name Company CIK Key\n",
       "0  1           !J INC                              1438823       \n",
       "1  2           #1 A LIFESAFER HOLDINGS, INC.       1509607       \n",
       "2  3           #1 ARIZONA DISCOUNT PROPERTIES LLC  1457512       \n",
       "3  4           #1 PAINTBALL CORP                   1433777       \n",
       "4  5           $ LLC                               1427189       "
      ]
     },
     "execution_count": 2,
     "metadata": {},
     "output_type": "execute_result"
    }
   ],
   "source": [
    "pd.set_option('display.max_colwidth', -1)\n",
    "dtf_names =  pd.read_csv('data/sec_edgar_company_info.csv', dtype = object)\n",
    "print(dtf_names.shape)\n",
    "dtf_names.head()"
   ]
  },
  {
   "cell_type": "markdown",
   "metadata": {},
   "source": [
    "## Speed test"
   ]
  },
  {
   "cell_type": "code",
   "execution_count": 3,
   "metadata": {},
   "outputs": [
    {
     "name": "stdout",
     "output_type": "stream",
     "text": [
      "0.4543449878692627\n"
     ]
    }
   ],
   "source": [
    "time_start = time.time()\n",
    "str_strings = dtf_names[\"Company Name\"].unique()[0:100]\n",
    "dtf_out = pfsm(str_strings)\n",
    "print(time.time() - time_start)"
   ]
  },
  {
   "cell_type": "code",
   "execution_count": 4,
   "metadata": {},
   "outputs": [
    {
     "name": "stdout",
     "output_type": "stream",
     "text": [
      "0.9785733222961426\n"
     ]
    }
   ],
   "source": [
    "time_start = time.time()\n",
    "str_strings = dtf_names[\"Company Name\"].unique()[0:1000]\n",
    "dtf_out = pfsm(str_strings)\n",
    "print(time.time() - time_start)"
   ]
  },
  {
   "cell_type": "code",
   "execution_count": 5,
   "metadata": {},
   "outputs": [
    {
     "name": "stdout",
     "output_type": "stream",
     "text": [
      "4.699110746383667\n"
     ]
    }
   ],
   "source": [
    "time_start = time.time()\n",
    "str_strings = dtf_names[\"Company Name\"].unique()[0:10000]\n",
    "dtf_out = pfsm(str_strings)\n",
    "print(time.time() - time_start)"
   ]
  },
  {
   "cell_type": "code",
   "execution_count": 6,
   "metadata": {},
   "outputs": [
    {
     "name": "stdout",
     "output_type": "stream",
     "text": [
      "64.87949562072754\n"
     ]
    }
   ],
   "source": [
    "time_start = time.time()\n",
    "str_strings = dtf_names[\"Company Name\"].unique()[0:100000]\n",
    "dtf_out = pfsm(str_strings)\n",
    "print(time.time() - time_start)"
   ]
  },
  {
   "cell_type": "code",
   "execution_count": 7,
   "metadata": {},
   "outputs": [
    {
     "name": "stdout",
     "output_type": "stream",
     "text": [
      "237.19493222236633\n"
     ]
    }
   ],
   "source": [
    "time_start = time.time()\n",
    "str_strings = dtf_names[\"Company Name\"].unique()[0:300000]\n",
    "dtf_out = pfsm(str_strings)\n",
    "print(time.time() - time_start)"
   ]
  },
  {
   "cell_type": "code",
   "execution_count": 8,
   "metadata": {},
   "outputs": [
    {
     "name": "stdout",
     "output_type": "stream",
     "text": [
      "632.3861622810364\n"
     ]
    }
   ],
   "source": [
    "time_start = time.time()\n",
    "str_strings = dtf_names[\"Company Name\"].unique()[0:600000]\n",
    "dtf_out = pfsm(str_strings)\n",
    "print(time.time() - time_start)"
   ]
  },
  {
   "cell_type": "markdown",
   "metadata": {},
   "source": [
    "# Output"
   ]
  },
  {
   "cell_type": "code",
   "execution_count": 9,
   "metadata": {},
   "outputs": [],
   "source": [
    "tmp = dtf_out.groupby([\"ENTITY_ID\"]).count().reset_index()\n",
    "tmp.columns = [\"ENTITY_ID\", \"COUNT\"]\n",
    "dtf_out = pd.merge(dtf_out, tmp, on = \"ENTITY_ID\", how = \"left\").drop_duplicates()"
   ]
  },
  {
   "cell_type": "code",
   "execution_count": 10,
   "metadata": {},
   "outputs": [
    {
     "data": {
      "text/html": [
       "<div>\n",
       "<style scoped>\n",
       "    .dataframe tbody tr th:only-of-type {\n",
       "        vertical-align: middle;\n",
       "    }\n",
       "\n",
       "    .dataframe tbody tr th {\n",
       "        vertical-align: top;\n",
       "    }\n",
       "\n",
       "    .dataframe thead th {\n",
       "        text-align: right;\n",
       "    }\n",
       "</style>\n",
       "<table border=\"1\" class=\"dataframe\">\n",
       "  <thead>\n",
       "    <tr style=\"text-align: right;\">\n",
       "      <th></th>\n",
       "      <th>STRING</th>\n",
       "      <th>ENTITY_ID</th>\n",
       "      <th>COUNT</th>\n",
       "    </tr>\n",
       "  </thead>\n",
       "  <tbody>\n",
       "    <tr>\n",
       "      <th>167286</th>\n",
       "      <td>DIAMOND RESORTS SANTA FE DEVELOPMENT, LLC</td>\n",
       "      <td>173624.0</td>\n",
       "      <td>54</td>\n",
       "    </tr>\n",
       "    <tr>\n",
       "      <th>167287</th>\n",
       "      <td>DIAMOND RESORTS SAN LUIS BAY DEVELOPMENT, LLC</td>\n",
       "      <td>173624.0</td>\n",
       "      <td>54</td>\n",
       "    </tr>\n",
       "    <tr>\n",
       "      <th>167288</th>\n",
       "      <td>DIAMOND RESORTS RESIDUAL ASSETS M&amp;E, LLC</td>\n",
       "      <td>173624.0</td>\n",
       "      <td>54</td>\n",
       "    </tr>\n",
       "    <tr>\n",
       "      <th>167289</th>\n",
       "      <td>DIAMOND RESORTS RIDGE ON SEDONA DEVELOPMENT, LLC</td>\n",
       "      <td>173624.0</td>\n",
       "      <td>54</td>\n",
       "    </tr>\n",
       "    <tr>\n",
       "      <th>167290</th>\n",
       "      <td>DIAMOND RESORTS RESIDUAL ASSETS DEVELOPMENT, LLC</td>\n",
       "      <td>173624.0</td>\n",
       "      <td>54</td>\n",
       "    </tr>\n",
       "    <tr>\n",
       "      <th>167291</th>\n",
       "      <td>DIAMOND RESORTS RESIDUAL ASSETS FINANCE, LLC</td>\n",
       "      <td>173624.0</td>\n",
       "      <td>54</td>\n",
       "    </tr>\n",
       "    <tr>\n",
       "      <th>167292</th>\n",
       "      <td>DIAMOND RESORTS RIDGE POINTE DEVELOPMENT, LLC</td>\n",
       "      <td>173624.0</td>\n",
       "      <td>54</td>\n",
       "    </tr>\n",
       "    <tr>\n",
       "      <th>167293</th>\n",
       "      <td>DIAMOND RESORTS SEDONA SUMMIT DEVELOPMENT, LLC</td>\n",
       "      <td>173624.0</td>\n",
       "      <td>54</td>\n",
       "    </tr>\n",
       "    <tr>\n",
       "      <th>167294</th>\n",
       "      <td>DIAMOND RESORTS ST. CROIX DEVELOPMENT, LLC</td>\n",
       "      <td>173624.0</td>\n",
       "      <td>54</td>\n",
       "    </tr>\n",
       "    <tr>\n",
       "      <th>167295</th>\n",
       "      <td>DIAMOND RESORTS SELLER 2015-2, LLC</td>\n",
       "      <td>173624.0</td>\n",
       "      <td>54</td>\n",
       "    </tr>\n",
       "  </tbody>\n",
       "</table>\n",
       "</div>"
      ],
      "text/plain": [
       "                                                  STRING  ENTITY_ID  COUNT\n",
       "167286  DIAMOND RESORTS SANTA FE DEVELOPMENT, LLC         173624.0   54   \n",
       "167287  DIAMOND RESORTS SAN LUIS BAY DEVELOPMENT, LLC     173624.0   54   \n",
       "167288  DIAMOND RESORTS RESIDUAL ASSETS M&E, LLC          173624.0   54   \n",
       "167289  DIAMOND RESORTS RIDGE ON SEDONA DEVELOPMENT, LLC  173624.0   54   \n",
       "167290  DIAMOND RESORTS RESIDUAL ASSETS DEVELOPMENT, LLC  173624.0   54   \n",
       "167291  DIAMOND RESORTS RESIDUAL ASSETS FINANCE, LLC      173624.0   54   \n",
       "167292  DIAMOND RESORTS RIDGE POINTE DEVELOPMENT, LLC     173624.0   54   \n",
       "167293  DIAMOND RESORTS SEDONA SUMMIT DEVELOPMENT, LLC    173624.0   54   \n",
       "167294  DIAMOND RESORTS ST. CROIX DEVELOPMENT, LLC        173624.0   54   \n",
       "167295  DIAMOND RESORTS SELLER 2015-2, LLC                173624.0   54   "
      ]
     },
     "execution_count": 10,
     "metadata": {},
     "output_type": "execute_result"
    }
   ],
   "source": [
    "idx = 30000\n",
    "dtf_out.sort_values([\"COUNT\", \"ENTITY_ID\"], ascending = False)[(idx):(idx+10)]"
   ]
  },
  {
   "cell_type": "code",
   "execution_count": null,
   "metadata": {},
   "outputs": [],
   "source": []
  }
 ],
 "metadata": {
  "kernelspec": {
   "display_name": "Python 3",
   "language": "python",
   "name": "python3"
  },
  "language_info": {
   "codemirror_mode": {
    "name": "ipython",
    "version": 3
   },
   "file_extension": ".py",
   "mimetype": "text/x-python",
   "name": "python",
   "nbconvert_exporter": "python",
   "pygments_lexer": "ipython3",
   "version": "3.6.3"
  }
 },
 "nbformat": 4,
 "nbformat_minor": 2
}
