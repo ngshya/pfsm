{
 "cells": [
  {
   "cell_type": "code",
   "execution_count": 1,
   "metadata": {},
   "outputs": [
    {
     "name": "stdout",
     "output_type": "stream",
     "text": [
      "Python 3.6.3 (default, Jan  9 2018, 10:19:07) \n",
      "[GCC 4.8.5 20150623 (Red Hat 4.8.5-11)] on linux\n",
      "12 CPUs avaiable. \n"
     ]
    }
   ],
   "source": [
    "import sys\n",
    "import multiprocessing\n",
    "print('Python %s on %s' % (sys.version, sys.platform))\n",
    "print(str(multiprocessing.cpu_count()) + \" CPUs avaiable. \")"
   ]
  },
  {
   "cell_type": "markdown",
   "metadata": {},
   "source": [
    "Import packages."
   ]
  },
  {
   "cell_type": "code",
   "execution_count": 2,
   "metadata": {},
   "outputs": [],
   "source": [
    "import pandas as pd\n",
    "import numpy as np\n",
    "import time"
   ]
  },
  {
   "cell_type": "markdown",
   "metadata": {},
   "source": [
    "Import the pfsm package."
   ]
  },
  {
   "cell_type": "code",
   "execution_count": 3,
   "metadata": {},
   "outputs": [],
   "source": [
    "from pfsm import *"
   ]
  },
  {
   "cell_type": "markdown",
   "metadata": {},
   "source": [
    "### Example 1. Strings vs strings"
   ]
  },
  {
   "cell_type": "code",
   "execution_count": 4,
   "metadata": {},
   "outputs": [],
   "source": [
    "def stringsVsStrings(array_1, array_2):\n",
    "    l = len(array_1)\n",
    "    obj = Strings(np.concatenate((np.array(array_1), np.array(array_2))))\n",
    "    obj.processStrings()\n",
    "    obj.tfidfM()\n",
    "    return cosimtop(obj.M[0:l,], obj.M[l:, ].transpose(), 3, 0.5)"
   ]
  },
  {
   "cell_type": "code",
   "execution_count": 5,
   "metadata": {},
   "outputs": [
    {
     "data": {
      "text/plain": [
       "matrix([[0.        , 0.        , 0.93454393],\n",
       "        [0.54544268, 0.        , 0.        ]])"
      ]
     },
     "execution_count": 5,
     "metadata": {},
     "output_type": "execute_result"
    }
   ],
   "source": [
    "stringsVsStrings([\"Company X\", \"Bank XXYYZZ\"], [\"Bank XYZ\", \"Sample Corporation\", \"X Company\"]).todense()"
   ]
  },
  {
   "cell_type": "markdown",
   "metadata": {},
   "source": [
    " "
   ]
  },
  {
   "cell_type": "markdown",
   "metadata": {},
   "source": [
    "### Example 2. Get the same ID for similar strings."
   ]
  },
  {
   "cell_type": "markdown",
   "metadata": {},
   "source": [
    "Load some sample data. "
   ]
  },
  {
   "cell_type": "code",
   "execution_count": 6,
   "metadata": {},
   "outputs": [],
   "source": [
    "dtf_names =  pd.read_csv('../data/sec_edgar_company_info.csv', dtype = object)\n",
    "str_strings = sorted(dtf_names[\"Company Name\"].unique())"
   ]
  },
  {
   "cell_type": "markdown",
   "metadata": {},
   "source": [
    "Define a function for future use. You can set custom parameters values for each method of the class Strings."
   ]
  },
  {
   "cell_type": "code",
   "execution_count": 7,
   "metadata": {},
   "outputs": [],
   "source": [
    "def getIdsFromStrings(strings):\n",
    "    obj_strings = Strings(strings)\n",
    "    obj_strings.processStrings()\n",
    "    obj_strings.tfidfM()\n",
    "    obj_strings.groupByKMeans()\n",
    "    obj_strings.getEntityID()\n",
    "    return obj_strings.groups"
   ]
  },
  {
   "cell_type": "markdown",
   "metadata": {},
   "source": [
    "Speed test."
   ]
  },
  {
   "cell_type": "code",
   "execution_count": 8,
   "metadata": {},
   "outputs": [
    {
     "name": "stdout",
     "output_type": "stream",
     "text": [
      "\n",
      "Creating array of clusters.\n",
      "There are 1 clusters. | Input dictionary size: 240\n",
      "Multiprocessing done! Merging data ...\n",
      "\n",
      "Running time: 5 seconds.\n"
     ]
    }
   ],
   "source": [
    "tms_start = time.time()\n",
    "dtf_strings_ids = getIdsFromStrings(str_strings[0:16000])\n",
    "print(\"\\nRunning time: \" + str(int(time.time() - tms_start)) + \" seconds.\")"
   ]
  },
  {
   "cell_type": "code",
   "execution_count": 9,
   "metadata": {},
   "outputs": [
    {
     "name": "stdout",
     "output_type": "stream",
     "text": [
      "Largest cluster dim: 32000 | Largest cluster ID 0 | Iteration time: 0\n",
      "Creating array of clusters.\n",
      "There are 120 clusters. | Input dictionary size: 4704\n",
      "Multiprocessing done! Merging data ...\n",
      "\n",
      "Running time: 5 seconds.\n"
     ]
    }
   ],
   "source": [
    "tms_start = time.time()\n",
    "dtf_strings_ids = getIdsFromStrings(str_strings[0:32000])\n",
    "print(\"\\nRunning time: \" + str(int(time.time() - tms_start)) + \" seconds.\")"
   ]
  },
  {
   "cell_type": "code",
   "execution_count": 10,
   "metadata": {},
   "outputs": [
    {
     "name": "stdout",
     "output_type": "stream",
     "text": [
      "Largest cluster dim: 64000 | Largest cluster ID 0 | Iteration time: 0\n",
      "Creating array of clusters.\n",
      "There are 123 clusters. | Input dictionary size: 4704\n",
      "Multiprocessing done! Merging data ...\n",
      "\n",
      "Running time: 10 seconds.\n"
     ]
    }
   ],
   "source": [
    "tms_start = time.time()\n",
    "dtf_strings_ids = getIdsFromStrings(str_strings[0:64000])\n",
    "print(\"\\nRunning time: \" + str(int(time.time() - tms_start)) + \" seconds.\")"
   ]
  },
  {
   "cell_type": "code",
   "execution_count": 11,
   "metadata": {},
   "outputs": [
    {
     "name": "stdout",
     "output_type": "stream",
     "text": [
      "Largest cluster dim: 46584 | Largest cluster ID 0-9 | Iteration time: 0\n",
      "Creating array of clusters.\n",
      "There are 203 clusters. | Input dictionary size: 9320\n",
      "Multiprocessing done! Merging data ...\n",
      "\n",
      "Running time: 19 seconds.\n"
     ]
    }
   ],
   "source": [
    "tms_start = time.time()\n",
    "dtf_strings_ids = getIdsFromStrings(str_strings[0:128000])\n",
    "print(\"\\nRunning time: \" + str(int(time.time() - tms_start)) + \" seconds.\")"
   ]
  },
  {
   "cell_type": "code",
   "execution_count": 12,
   "metadata": {},
   "outputs": [
    {
     "name": "stdout",
     "output_type": "stream",
     "text": [
      "Largest cluster dim: 35854 | Largest cluster ID 0-6-17-3-1-1 | Iteration time: 0\n",
      "Creating array of clusters.\n",
      "There are 282 clusters. | Input dictionary size: 9320\n",
      "Multiprocessing done! Merging data ...\n",
      "\n",
      "Running time: 38 seconds.\n"
     ]
    }
   ],
   "source": [
    "tms_start = time.time()\n",
    "dtf_strings_ids = getIdsFromStrings(str_strings[0:256000])\n",
    "print(\"\\nRunning time: \" + str(int(time.time() - tms_start)) + \" seconds.\")"
   ]
  },
  {
   "cell_type": "code",
   "execution_count": 13,
   "metadata": {},
   "outputs": [
    {
     "name": "stdout",
     "output_type": "stream",
     "text": [
      "Largest cluster dim: 33903 | Largest cluster ID 0-30-9-2-5-4-8-5-1-0 | Iteration time: 0\n",
      "Creating array of clusters.\n",
      "There are 389 clusters. | Input dictionary size: 18528\n",
      "Multiprocessing done! Merging data ...\n",
      "\n",
      "Running time: 80 seconds.\n"
     ]
    }
   ],
   "source": [
    "tms_start = time.time()\n",
    "dtf_strings_ids = getIdsFromStrings(str_strings[0:512000])\n",
    "print(\"\\nRunning time: \" + str(int(time.time() - tms_start)) + \" seconds.\")"
   ]
  },
  {
   "cell_type": "markdown",
   "metadata": {},
   "source": [
    " "
   ]
  },
  {
   "cell_type": "markdown",
   "metadata": {},
   "source": [
    "### Checking results"
   ]
  },
  {
   "cell_type": "code",
   "execution_count": 14,
   "metadata": {},
   "outputs": [],
   "source": [
    "counts = np.unique(dtf_strings_ids.ENTITY_ID, return_counts = True)"
   ]
  },
  {
   "cell_type": "code",
   "execution_count": 15,
   "metadata": {},
   "outputs": [],
   "source": [
    "dtf_entities = pd.DataFrame({\"ENTITY_ID\": counts[0], \"COUNT\": counts[1]}).sort_values([\"COUNT\"], ascending = False, axis = 0).reset_index(drop = True)"
   ]
  },
  {
   "cell_type": "code",
   "execution_count": 16,
   "metadata": {},
   "outputs": [
    {
     "data": {
      "text/html": [
       "<div>\n",
       "<style scoped>\n",
       "    .dataframe tbody tr th:only-of-type {\n",
       "        vertical-align: middle;\n",
       "    }\n",
       "\n",
       "    .dataframe tbody tr th {\n",
       "        vertical-align: top;\n",
       "    }\n",
       "\n",
       "    .dataframe thead th {\n",
       "        text-align: right;\n",
       "    }\n",
       "</style>\n",
       "<table border=\"1\" class=\"dataframe\">\n",
       "  <thead>\n",
       "    <tr style=\"text-align: right;\">\n",
       "      <th></th>\n",
       "      <th>ENTITY_ID</th>\n",
       "      <th>COUNT</th>\n",
       "    </tr>\n",
       "  </thead>\n",
       "  <tbody>\n",
       "    <tr>\n",
       "      <th>0</th>\n",
       "      <td>0-30-94-48</td>\n",
       "      <td>1582</td>\n",
       "    </tr>\n",
       "    <tr>\n",
       "      <th>1</th>\n",
       "      <td>0-36-1457</td>\n",
       "      <td>855</td>\n",
       "    </tr>\n",
       "    <tr>\n",
       "      <th>2</th>\n",
       "      <td>0-24-3357</td>\n",
       "      <td>747</td>\n",
       "    </tr>\n",
       "    <tr>\n",
       "      <th>3</th>\n",
       "      <td>0-97-851</td>\n",
       "      <td>559</td>\n",
       "    </tr>\n",
       "    <tr>\n",
       "      <th>4</th>\n",
       "      <td>0-5-950</td>\n",
       "      <td>418</td>\n",
       "    </tr>\n",
       "    <tr>\n",
       "      <th>5</th>\n",
       "      <td>0-30-94-49</td>\n",
       "      <td>212</td>\n",
       "    </tr>\n",
       "    <tr>\n",
       "      <th>6</th>\n",
       "      <td>0-116-2368</td>\n",
       "      <td>197</td>\n",
       "    </tr>\n",
       "    <tr>\n",
       "      <th>7</th>\n",
       "      <td>0-124-949</td>\n",
       "      <td>189</td>\n",
       "    </tr>\n",
       "    <tr>\n",
       "      <th>8</th>\n",
       "      <td>0-13-396</td>\n",
       "      <td>171</td>\n",
       "    </tr>\n",
       "    <tr>\n",
       "      <th>9</th>\n",
       "      <td>0-16-311</td>\n",
       "      <td>159</td>\n",
       "    </tr>\n",
       "  </tbody>\n",
       "</table>\n",
       "</div>"
      ],
      "text/plain": [
       "    ENTITY_ID  COUNT\n",
       "0  0-30-94-48   1582\n",
       "1   0-36-1457    855\n",
       "2   0-24-3357    747\n",
       "3    0-97-851    559\n",
       "4     0-5-950    418\n",
       "5  0-30-94-49    212\n",
       "6  0-116-2368    197\n",
       "7   0-124-949    189\n",
       "8    0-13-396    171\n",
       "9    0-16-311    159"
      ]
     },
     "execution_count": 16,
     "metadata": {},
     "output_type": "execute_result"
    }
   ],
   "source": [
    "dtf_entities.head(10)"
   ]
  },
  {
   "cell_type": "code",
   "execution_count": 17,
   "metadata": {},
   "outputs": [
    {
     "data": {
      "text/html": [
       "<div>\n",
       "<style scoped>\n",
       "    .dataframe tbody tr th:only-of-type {\n",
       "        vertical-align: middle;\n",
       "    }\n",
       "\n",
       "    .dataframe tbody tr th {\n",
       "        vertical-align: top;\n",
       "    }\n",
       "\n",
       "    .dataframe thead th {\n",
       "        text-align: right;\n",
       "    }\n",
       "</style>\n",
       "<table border=\"1\" class=\"dataframe\">\n",
       "  <thead>\n",
       "    <tr style=\"text-align: right;\">\n",
       "      <th></th>\n",
       "      <th>ORIGINAL_STRING</th>\n",
       "      <th>INDEX</th>\n",
       "      <th>GROUP_ID</th>\n",
       "      <th>ENTITY_ID</th>\n",
       "    </tr>\n",
       "  </thead>\n",
       "  <tbody>\n",
       "    <tr>\n",
       "      <th>133000</th>\n",
       "      <td>CONSTELLATION BRANDS BEACH HOLDINGS, INC.</td>\n",
       "      <td>133000</td>\n",
       "      <td>0-28</td>\n",
       "      <td>0-28-1680</td>\n",
       "    </tr>\n",
       "    <tr>\n",
       "      <th>133001</th>\n",
       "      <td>CONSTELLATION BRANDS INC</td>\n",
       "      <td>133001</td>\n",
       "      <td>0-28</td>\n",
       "      <td>0-28-1680</td>\n",
       "    </tr>\n",
       "    <tr>\n",
       "      <th>133002</th>\n",
       "      <td>CONSTELLATION BRANDS OF GEORGIA INC</td>\n",
       "      <td>133002</td>\n",
       "      <td>0-28</td>\n",
       "      <td>0-28-1680</td>\n",
       "    </tr>\n",
       "    <tr>\n",
       "      <th>133004</th>\n",
       "      <td>CONSTELLATION BRANDS U.S. OPERATIONS, INC.</td>\n",
       "      <td>133004</td>\n",
       "      <td>0-28</td>\n",
       "      <td>0-28-1680</td>\n",
       "    </tr>\n",
       "    <tr>\n",
       "      <th>133005</th>\n",
       "      <td>CONSTELLATION BRANDS, INC.</td>\n",
       "      <td>133005</td>\n",
       "      <td>0-28</td>\n",
       "      <td>0-28-1680</td>\n",
       "    </tr>\n",
       "  </tbody>\n",
       "</table>\n",
       "</div>"
      ],
      "text/plain": [
       "                                   ORIGINAL_STRING   INDEX GROUP_ID  ENTITY_ID\n",
       "133000   CONSTELLATION BRANDS BEACH HOLDINGS, INC.  133000     0-28  0-28-1680\n",
       "133001                    CONSTELLATION BRANDS INC  133001     0-28  0-28-1680\n",
       "133002         CONSTELLATION BRANDS OF GEORGIA INC  133002     0-28  0-28-1680\n",
       "133004  CONSTELLATION BRANDS U.S. OPERATIONS, INC.  133004     0-28  0-28-1680\n",
       "133005                  CONSTELLATION BRANDS, INC.  133005     0-28  0-28-1680"
      ]
     },
     "execution_count": 17,
     "metadata": {},
     "output_type": "execute_result"
    }
   ],
   "source": [
    "dtf_strings_ids.loc[dtf_strings_ids.ENTITY_ID == dtf_entities.ENTITY_ID[4444], ].head(10)"
   ]
  },
  {
   "cell_type": "code",
   "execution_count": null,
   "metadata": {},
   "outputs": [],
   "source": []
  }
 ],
 "metadata": {
  "kernelspec": {
   "display_name": "Python 3",
   "language": "python",
   "name": "python3"
  },
  "language_info": {
   "codemirror_mode": {
    "name": "ipython",
    "version": 3
   },
   "file_extension": ".py",
   "mimetype": "text/x-python",
   "name": "python",
   "nbconvert_exporter": "python",
   "pygments_lexer": "ipython3",
   "version": "3.6.3"
  }
 },
 "nbformat": 4,
 "nbformat_minor": 2
}
