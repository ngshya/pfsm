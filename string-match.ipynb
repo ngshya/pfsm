{
 "cells": [
  {
   "cell_type": "code",
   "execution_count": 1,
   "metadata": {},
   "outputs": [],
   "source": [
    "import numpy as np\n",
    "import pandas as pd\n",
    "import time\n",
    "import multiprocessing\n",
    "from multiprocessing import Pool\n",
    "import functools\n",
    "import sys\n",
    "from pfsm import *"
   ]
  },
  {
   "cell_type": "code",
   "execution_count": 2,
   "metadata": {},
   "outputs": [
    {
     "name": "stdout",
     "output_type": "stream",
     "text": [
      "(663000, 3)\n"
     ]
    },
    {
     "data": {
      "text/html": [
       "<div>\n",
       "<style scoped>\n",
       "    .dataframe tbody tr th:only-of-type {\n",
       "        vertical-align: middle;\n",
       "    }\n",
       "\n",
       "    .dataframe tbody tr th {\n",
       "        vertical-align: top;\n",
       "    }\n",
       "\n",
       "    .dataframe thead th {\n",
       "        text-align: right;\n",
       "    }\n",
       "</style>\n",
       "<table border=\"1\" class=\"dataframe\">\n",
       "  <thead>\n",
       "    <tr style=\"text-align: right;\">\n",
       "      <th></th>\n",
       "      <th>Line Number</th>\n",
       "      <th>Company Name</th>\n",
       "      <th>Company CIK Key</th>\n",
       "    </tr>\n",
       "  </thead>\n",
       "  <tbody>\n",
       "    <tr>\n",
       "      <th>0</th>\n",
       "      <td>1</td>\n",
       "      <td>!J INC</td>\n",
       "      <td>1438823</td>\n",
       "    </tr>\n",
       "    <tr>\n",
       "      <th>1</th>\n",
       "      <td>2</td>\n",
       "      <td>#1 A LIFESAFER HOLDINGS, INC.</td>\n",
       "      <td>1509607</td>\n",
       "    </tr>\n",
       "    <tr>\n",
       "      <th>2</th>\n",
       "      <td>3</td>\n",
       "      <td>#1 ARIZONA DISCOUNT PROPERTIES LLC</td>\n",
       "      <td>1457512</td>\n",
       "    </tr>\n",
       "    <tr>\n",
       "      <th>3</th>\n",
       "      <td>4</td>\n",
       "      <td>#1 PAINTBALL CORP</td>\n",
       "      <td>1433777</td>\n",
       "    </tr>\n",
       "    <tr>\n",
       "      <th>4</th>\n",
       "      <td>5</td>\n",
       "      <td>$ LLC</td>\n",
       "      <td>1427189</td>\n",
       "    </tr>\n",
       "  </tbody>\n",
       "</table>\n",
       "</div>"
      ],
      "text/plain": [
       "  Line Number                        Company Name Company CIK Key\n",
       "0  1           !J INC                              1438823       \n",
       "1  2           #1 A LIFESAFER HOLDINGS, INC.       1509607       \n",
       "2  3           #1 ARIZONA DISCOUNT PROPERTIES LLC  1457512       \n",
       "3  4           #1 PAINTBALL CORP                   1433777       \n",
       "4  5           $ LLC                               1427189       "
      ]
     },
     "execution_count": 2,
     "metadata": {},
     "output_type": "execute_result"
    }
   ],
   "source": [
    "pd.set_option('display.max_colwidth', -1)\n",
    "dtf_names =  pd.read_csv('data/sec_edgar_company_info.csv', dtype = object)\n",
    "print(dtf_names.shape)\n",
    "dtf_names.head()"
   ]
  },
  {
   "cell_type": "code",
   "execution_count": 3,
   "metadata": {},
   "outputs": [
    {
     "name": "stdout",
     "output_type": "stream",
     "text": [
      "(657160, 29619)\n",
      "56.56030893325806\n"
     ]
    }
   ],
   "source": [
    "time_start = time.time()\n",
    "str_strings = dtf_names[\"Company Name\"].unique()#[0:300000]\n",
    "M = tfidfM(str_strings)\n",
    "print(M.shape)\n",
    "print(time.time() - time_start)"
   ]
  },
  {
   "cell_type": "code",
   "execution_count": 4,
   "metadata": {},
   "outputs": [],
   "source": [
    "def myf(idxs, ns):\n",
    "    min_idxs = min(idxs)\n",
    "    matches_tmp = awesome_cossim_top(ns.M[idxs, ], ns.M[min_idxs:,].transpose(), 10, 0.85)\n",
    "    return [matches_tmp[j, ].indices + min_idxs for j in range(matches_tmp.shape[0])]"
   ]
  },
  {
   "cell_type": "code",
   "execution_count": 5,
   "metadata": {},
   "outputs": [
    {
     "name": "stdout",
     "output_type": "stream",
     "text": [
      "0.0826566219329834\n"
     ]
    }
   ],
   "source": [
    "time_start = time.time()\n",
    "int_entity_id = np.array([np.NaN for j in range(len(str_strings))])\n",
    "lst_split = list(split(range(M.shape[0]), 500))\n",
    "print(time.time() - time_start)"
   ]
  },
  {
   "cell_type": "code",
   "execution_count": 6,
   "metadata": {},
   "outputs": [
    {
     "name": "stdout",
     "output_type": "stream",
     "text": [
      "0.5665156841278076\n"
     ]
    }
   ],
   "source": [
    "time_start = time.time()\n",
    "manager = multiprocessing.Manager()\n",
    "ns = manager.Namespace()\n",
    "ns.M = M\n",
    "print(time.time() - time_start)"
   ]
  },
  {
   "cell_type": "code",
   "execution_count": 7,
   "metadata": {},
   "outputs": [
    {
     "name": "stdout",
     "output_type": "stream",
     "text": [
      "669.5270597934723\n"
     ]
    }
   ],
   "source": [
    "time_start = time.time()\n",
    "pool = Pool(10)\n",
    "r = pool.map(functools.partial(myf, ns = ns), lst_split)\n",
    "pool.close()\n",
    "pool.join()\n",
    "print(time.time() - time_start)"
   ]
  },
  {
   "cell_type": "code",
   "execution_count": 8,
   "metadata": {},
   "outputs": [
    {
     "name": "stdout",
     "output_type": "stream",
     "text": [
      "(657160, 2)\n",
      "22.526001691818237\n"
     ]
    }
   ],
   "source": [
    "time_start = time.time()\n",
    "\n",
    "\n",
    "out = np.array([])\n",
    "for j in range(len(r)):\n",
    "    out = np.append(out, r[j])\n",
    "\n",
    "out\n",
    "r = out\n",
    "\n",
    "    \n",
    "for j in range(len(r)):\n",
    "    idx = r[j]\n",
    "    if np.isscalar(idx):\n",
    "        idx = np.array([idx])\n",
    "    idx = idx.astype(int)\n",
    "    tmp_idx = int_entity_id[idx]\n",
    "    if sum([np.isnan(x) for x in tmp_idx]) == len(tmp_idx):\n",
    "        int_entity_id[idx] = j\n",
    "    else:\n",
    "        int_entity_id[idx] = np.nanmin(tmp_idx)\n",
    "\n",
    "\n",
    "dtf_out = pd.DataFrame({\"STRING\": str_strings, \"ENTITY_ID\": int_entity_id}).sort_values([\"ENTITY_ID\"])\n",
    "print(dtf_out.shape)\n",
    "\n",
    "\n",
    "print(time.time() - time_start)"
   ]
  },
  {
   "cell_type": "code",
   "execution_count": 9,
   "metadata": {},
   "outputs": [
    {
     "data": {
      "text/html": [
       "<div>\n",
       "<style scoped>\n",
       "    .dataframe tbody tr th:only-of-type {\n",
       "        vertical-align: middle;\n",
       "    }\n",
       "\n",
       "    .dataframe tbody tr th {\n",
       "        vertical-align: top;\n",
       "    }\n",
       "\n",
       "    .dataframe thead th {\n",
       "        text-align: right;\n",
       "    }\n",
       "</style>\n",
       "<table border=\"1\" class=\"dataframe\">\n",
       "  <thead>\n",
       "    <tr style=\"text-align: right;\">\n",
       "      <th></th>\n",
       "      <th>STRING</th>\n",
       "      <th>ENTITY_ID</th>\n",
       "    </tr>\n",
       "  </thead>\n",
       "  <tbody>\n",
       "  </tbody>\n",
       "</table>\n",
       "</div>"
      ],
      "text/plain": [
       "Empty DataFrame\n",
       "Columns: [STRING, ENTITY_ID]\n",
       "Index: []"
      ]
     },
     "execution_count": 9,
     "metadata": {},
     "output_type": "execute_result"
    }
   ],
   "source": [
    "dtf_out[dtf_out.ENTITY_ID.isnull()].head()"
   ]
  },
  {
   "cell_type": "code",
   "execution_count": 10,
   "metadata": {},
   "outputs": [
    {
     "name": "stdout",
     "output_type": "stream",
     "text": [
      "(657160, 3)\n"
     ]
    }
   ],
   "source": [
    "tmp = dtf_out.groupby([\"ENTITY_ID\"]).count().reset_index()\n",
    "tmp.columns = [\"ENTITY_ID\", \"COUNT\"]\n",
    "dtf_out = pd.merge(dtf_out, tmp, on = \"ENTITY_ID\", how = \"left\").drop_duplicates()\n",
    "print(dtf_out.shape)"
   ]
  },
  {
   "cell_type": "code",
   "execution_count": 11,
   "metadata": {},
   "outputs": [
    {
     "data": {
      "text/html": [
       "<div>\n",
       "<style scoped>\n",
       "    .dataframe tbody tr th:only-of-type {\n",
       "        vertical-align: middle;\n",
       "    }\n",
       "\n",
       "    .dataframe tbody tr th {\n",
       "        vertical-align: top;\n",
       "    }\n",
       "\n",
       "    .dataframe thead th {\n",
       "        text-align: right;\n",
       "    }\n",
       "</style>\n",
       "<table border=\"1\" class=\"dataframe\">\n",
       "  <thead>\n",
       "    <tr style=\"text-align: right;\">\n",
       "      <th></th>\n",
       "      <th>STRING</th>\n",
       "      <th>ENTITY_ID</th>\n",
       "      <th>COUNT</th>\n",
       "    </tr>\n",
       "  </thead>\n",
       "  <tbody>\n",
       "    <tr>\n",
       "      <th>161089</th>\n",
       "      <td>DEFINED ASSET FUNDS MUNI INV TR FD MO PAYMENT SERIES 1</td>\n",
       "      <td>168040.0</td>\n",
       "      <td>1447</td>\n",
       "    </tr>\n",
       "    <tr>\n",
       "      <th>161090</th>\n",
       "      <td>DEFINED ASSET FUNDS GOVERNMENT SECURITIES INC FD GNMA SER 1A</td>\n",
       "      <td>168040.0</td>\n",
       "      <td>1447</td>\n",
       "    </tr>\n",
       "    <tr>\n",
       "      <th>161091</th>\n",
       "      <td>DEFINED ASSET FUNDS GOVERNMENT SECURITIES INC FD GNMA SER 19</td>\n",
       "      <td>168040.0</td>\n",
       "      <td>1447</td>\n",
       "    </tr>\n",
       "    <tr>\n",
       "      <th>161092</th>\n",
       "      <td>DEFINED ASSET FUNDS GOVERNMENT SECURITIES INC FD GNMA SER 18</td>\n",
       "      <td>168040.0</td>\n",
       "      <td>1447</td>\n",
       "    </tr>\n",
       "    <tr>\n",
       "      <th>161093</th>\n",
       "      <td>DEFINED ASSET FUNDS GOVERNMENT SECURITIES INC FD GNMA SER 17</td>\n",
       "      <td>168040.0</td>\n",
       "      <td>1447</td>\n",
       "    </tr>\n",
       "    <tr>\n",
       "      <th>161094</th>\n",
       "      <td>DEFINED ASSET FUNDS GOVERNMENT SECURITIES INC FD GNMA SER 16</td>\n",
       "      <td>168040.0</td>\n",
       "      <td>1447</td>\n",
       "    </tr>\n",
       "    <tr>\n",
       "      <th>161095</th>\n",
       "      <td>DEFINED ASSET FUNDS GOVERNMENT SECURITIES INC FD GNMA SER 15</td>\n",
       "      <td>168040.0</td>\n",
       "      <td>1447</td>\n",
       "    </tr>\n",
       "    <tr>\n",
       "      <th>161096</th>\n",
       "      <td>DEFINED ASSET FUNDS GOVERNMENT SECURITIES INC FD GNMA SER 14</td>\n",
       "      <td>168040.0</td>\n",
       "      <td>1447</td>\n",
       "    </tr>\n",
       "    <tr>\n",
       "      <th>161097</th>\n",
       "      <td>DEFINED ASSET FUNDS GOVERNMENT SECURITIES INC FD GNMA SER 13</td>\n",
       "      <td>168040.0</td>\n",
       "      <td>1447</td>\n",
       "    </tr>\n",
       "    <tr>\n",
       "      <th>161098</th>\n",
       "      <td>DEFINED ASSET FUNDS GOVERNMENT SECURITIES INC FD GNMA SER 12</td>\n",
       "      <td>168040.0</td>\n",
       "      <td>1447</td>\n",
       "    </tr>\n",
       "    <tr>\n",
       "      <th>161099</th>\n",
       "      <td>DEFINED ASSET FUNDS GOVERNMENT SECURITIES INC FD GNMA SER 10</td>\n",
       "      <td>168040.0</td>\n",
       "      <td>1447</td>\n",
       "    </tr>\n",
       "    <tr>\n",
       "      <th>161100</th>\n",
       "      <td>DEFINED ASSET FUNDS GOVERNMENT SECURITIES INC FD GNMA SER 0</td>\n",
       "      <td>168040.0</td>\n",
       "      <td>1447</td>\n",
       "    </tr>\n",
       "    <tr>\n",
       "      <th>161101</th>\n",
       "      <td>DEFINED ASSET FUNDS GOVERNMENT SECURITIES FD GNMA SER D</td>\n",
       "      <td>168040.0</td>\n",
       "      <td>1447</td>\n",
       "    </tr>\n",
       "    <tr>\n",
       "      <th>161102</th>\n",
       "      <td>DEFINED ASSET FUNDS GOVERNMENT SECRUITIES INC FD GNMA SER 1U</td>\n",
       "      <td>168040.0</td>\n",
       "      <td>1447</td>\n",
       "    </tr>\n",
       "    <tr>\n",
       "      <th>161103</th>\n",
       "      <td>DEFINED ASSET FUNDS GOVERNMENT SEC INCOME FUND GNMA SER 4</td>\n",
       "      <td>168040.0</td>\n",
       "      <td>1447</td>\n",
       "    </tr>\n",
       "    <tr>\n",
       "      <th>161104</th>\n",
       "      <td>DEFINED ASSET FUNDS GOVERNMENT SEC INCOME FD GNMA SERIES 1T</td>\n",
       "      <td>168040.0</td>\n",
       "      <td>1447</td>\n",
       "    </tr>\n",
       "    <tr>\n",
       "      <th>161105</th>\n",
       "      <td>DEFINED ASSET FUNDS FLORIDA INSURED SERIES</td>\n",
       "      <td>168040.0</td>\n",
       "      <td>1447</td>\n",
       "    </tr>\n",
       "    <tr>\n",
       "      <th>161106</th>\n",
       "      <td>DEFINED ASSET FUNDS FLORIDA INSURED SERIES 3</td>\n",
       "      <td>168040.0</td>\n",
       "      <td>1447</td>\n",
       "    </tr>\n",
       "    <tr>\n",
       "      <th>161107</th>\n",
       "      <td>DEFINED ASSET FUNDS FLORIDA INSURED SERIES 2</td>\n",
       "      <td>168040.0</td>\n",
       "      <td>1447</td>\n",
       "    </tr>\n",
       "    <tr>\n",
       "      <th>161108</th>\n",
       "      <td>DEFINED ASSET FUNDS EQUITY INCOME FUND UTILITY STOCK SER 13</td>\n",
       "      <td>168040.0</td>\n",
       "      <td>1447</td>\n",
       "    </tr>\n",
       "  </tbody>\n",
       "</table>\n",
       "</div>"
      ],
      "text/plain": [
       "                                                              STRING  \\\n",
       "161089  DEFINED ASSET FUNDS MUNI INV TR FD MO PAYMENT SERIES 1         \n",
       "161090  DEFINED ASSET FUNDS GOVERNMENT SECURITIES INC FD GNMA SER 1A   \n",
       "161091  DEFINED ASSET FUNDS GOVERNMENT SECURITIES INC FD GNMA SER 19   \n",
       "161092  DEFINED ASSET FUNDS GOVERNMENT SECURITIES INC FD GNMA SER 18   \n",
       "161093  DEFINED ASSET FUNDS GOVERNMENT SECURITIES INC FD GNMA SER 17   \n",
       "161094  DEFINED ASSET FUNDS GOVERNMENT SECURITIES INC FD GNMA SER 16   \n",
       "161095  DEFINED ASSET FUNDS GOVERNMENT SECURITIES INC FD GNMA SER 15   \n",
       "161096  DEFINED ASSET FUNDS GOVERNMENT SECURITIES INC FD GNMA SER 14   \n",
       "161097  DEFINED ASSET FUNDS GOVERNMENT SECURITIES INC FD GNMA SER 13   \n",
       "161098  DEFINED ASSET FUNDS GOVERNMENT SECURITIES INC FD GNMA SER 12   \n",
       "161099  DEFINED ASSET FUNDS GOVERNMENT SECURITIES INC FD GNMA SER 10   \n",
       "161100  DEFINED ASSET FUNDS GOVERNMENT SECURITIES INC FD GNMA SER 0    \n",
       "161101  DEFINED ASSET FUNDS GOVERNMENT SECURITIES FD GNMA SER D        \n",
       "161102  DEFINED ASSET FUNDS GOVERNMENT SECRUITIES INC FD GNMA SER 1U   \n",
       "161103  DEFINED ASSET FUNDS GOVERNMENT SEC INCOME FUND GNMA SER 4      \n",
       "161104  DEFINED ASSET FUNDS GOVERNMENT SEC INCOME FD GNMA SERIES 1T    \n",
       "161105  DEFINED ASSET FUNDS FLORIDA INSURED SERIES                     \n",
       "161106  DEFINED ASSET FUNDS FLORIDA INSURED SERIES 3                   \n",
       "161107  DEFINED ASSET FUNDS FLORIDA INSURED SERIES 2                   \n",
       "161108  DEFINED ASSET FUNDS EQUITY INCOME FUND UTILITY STOCK SER 13    \n",
       "\n",
       "        ENTITY_ID  COUNT  \n",
       "161089  168040.0   1447   \n",
       "161090  168040.0   1447   \n",
       "161091  168040.0   1447   \n",
       "161092  168040.0   1447   \n",
       "161093  168040.0   1447   \n",
       "161094  168040.0   1447   \n",
       "161095  168040.0   1447   \n",
       "161096  168040.0   1447   \n",
       "161097  168040.0   1447   \n",
       "161098  168040.0   1447   \n",
       "161099  168040.0   1447   \n",
       "161100  168040.0   1447   \n",
       "161101  168040.0   1447   \n",
       "161102  168040.0   1447   \n",
       "161103  168040.0   1447   \n",
       "161104  168040.0   1447   \n",
       "161105  168040.0   1447   \n",
       "161106  168040.0   1447   \n",
       "161107  168040.0   1447   \n",
       "161108  168040.0   1447   "
      ]
     },
     "execution_count": 11,
     "metadata": {},
     "output_type": "execute_result"
    }
   ],
   "source": [
    "idx = 0\n",
    "dtf_out.sort_values([\"COUNT\", \"ENTITY_ID\"], ascending = False)[(idx):(idx+20)]"
   ]
  },
  {
   "cell_type": "code",
   "execution_count": null,
   "metadata": {},
   "outputs": [],
   "source": []
  }
 ],
 "metadata": {
  "kernelspec": {
   "display_name": "Python 3",
   "language": "python",
   "name": "python3"
  },
  "language_info": {
   "codemirror_mode": {
    "name": "ipython",
    "version": 3
   },
   "file_extension": ".py",
   "mimetype": "text/x-python",
   "name": "python",
   "nbconvert_exporter": "python",
   "pygments_lexer": "ipython3",
   "version": "3.6.3"
  }
 },
 "nbformat": 4,
 "nbformat_minor": 2
}
